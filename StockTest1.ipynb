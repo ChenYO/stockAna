{
 "cells": [
  {
   "cell_type": "code",
   "execution_count": 1,
   "metadata": {},
   "outputs": [],
   "source": [
    "import twstock"
   ]
  },
  {
   "cell_type": "code",
   "execution_count": 6,
   "metadata": {},
   "outputs": [],
   "source": [
    "stock = twstock.Stock('5478')"
   ]
  },
  {
   "cell_type": "code",
   "execution_count": 7,
   "metadata": {},
   "outputs": [
    {
     "data": {
      "text/plain": [
       "[Data(date=datetime.datetime(2018, 8, 21, 0, 0), capacity=113000, turnover=8333000, open=73.4, high=74.8, low=72.4, close=74.0, change=1.5, transaction=99),\n",
       " Data(date=datetime.datetime(2018, 8, 22, 0, 0), capacity=80000, turnover=5947000, open=74.1, high=75.0, low=74.0, close=74.7, change=0.7, transaction=71),\n",
       " Data(date=datetime.datetime(2018, 8, 23, 0, 0), capacity=124000, turnover=9347000, open=75.9, high=75.9, low=74.7, close=74.7, change=0.0, transaction=114),\n",
       " Data(date=datetime.datetime(2018, 8, 24, 0, 0), capacity=49000, turnover=3673000, open=73.7, high=75.0, low=73.7, close=74.4, change=-0.3, transaction=53),\n",
       " Data(date=datetime.datetime(2018, 8, 27, 0, 0), capacity=55000, turnover=4116000, open=74.4, high=74.8, low=74.2, close=74.4, change=0.0, transaction=57),\n",
       " Data(date=datetime.datetime(2018, 8, 28, 0, 0), capacity=165000, turnover=12350000, open=74.8, high=75.1, low=74.2, close=75.0, change=0.6, transaction=145),\n",
       " Data(date=datetime.datetime(2018, 8, 29, 0, 0), capacity=125000, turnover=9134000, open=73.5, high=73.6, low=72.4, close=73.0, change=0.0, transaction=128),\n",
       " Data(date=datetime.datetime(2018, 8, 30, 0, 0), capacity=61000, turnover=4474000, open=73.0, high=73.4, low=72.5, close=73.3, change=0.3, transaction=65),\n",
       " Data(date=datetime.datetime(2018, 8, 31, 0, 0), capacity=76000, turnover=5506000, open=73.5, high=73.5, low=72.4, close=72.4, change=-0.9, transaction=79),\n",
       " Data(date=datetime.datetime(2018, 9, 3, 0, 0), capacity=62000, turnover=4523000, open=72.4, high=73.7, low=72.3, close=72.5, change=0.1, transaction=64),\n",
       " Data(date=datetime.datetime(2018, 9, 4, 0, 0), capacity=58000, turnover=4248000, open=72.5, high=73.5, low=72.5, close=73.3, change=0.8, transaction=66),\n",
       " Data(date=datetime.datetime(2018, 9, 5, 0, 0), capacity=23000, turnover=1692000, open=73.6, high=73.6, low=73.0, close=73.0, change=-0.3, transaction=27),\n",
       " Data(date=datetime.datetime(2018, 9, 6, 0, 0), capacity=61000, turnover=4468000, open=72.6, high=73.6, low=72.6, close=73.0, change=0.0, transaction=54),\n",
       " Data(date=datetime.datetime(2018, 9, 7, 0, 0), capacity=146000, turnover=10474000, open=72.7, high=73.2, low=70.5, close=71.3, change=-1.7, transaction=104),\n",
       " Data(date=datetime.datetime(2018, 9, 10, 0, 0), capacity=122000, turnover=8466000, open=70.0, high=71.0, low=68.2, close=68.7, change=-2.6, transaction=111),\n",
       " Data(date=datetime.datetime(2018, 9, 11, 0, 0), capacity=128000, turnover=8790000, open=68.2, high=69.5, low=68.1, close=69.5, change=0.8, transaction=121),\n",
       " Data(date=datetime.datetime(2018, 9, 12, 0, 0), capacity=64000, turnover=4468000, open=70.5, high=70.5, low=69.5, close=69.9, change=0.4, transaction=66),\n",
       " Data(date=datetime.datetime(2018, 9, 13, 0, 0), capacity=103000, turnover=7237000, open=70.3, high=70.6, low=69.8, close=70.3, change=0.4, transaction=100),\n",
       " Data(date=datetime.datetime(2018, 9, 14, 0, 0), capacity=206000, turnover=14790000, open=69.8, high=72.4, low=69.8, close=72.0, change=1.7, transaction=170),\n",
       " Data(date=datetime.datetime(2018, 9, 17, 0, 0), capacity=245000, turnover=18435000, open=74.0, high=77.6, low=73.2, close=73.8, change=1.8, transaction=227),\n",
       " Data(date=datetime.datetime(2018, 9, 18, 0, 0), capacity=97000, turnover=7072000, open=74.2, high=74.2, low=71.8, close=71.8, change=-2.0, transaction=86),\n",
       " Data(date=datetime.datetime(2018, 9, 19, 0, 0), capacity=93000, turnover=6718000, open=71.8, high=73.0, low=71.2, close=71.2, change=-0.6, transaction=86),\n",
       " Data(date=datetime.datetime(2018, 9, 20, 0, 0), capacity=76000, turnover=5423000, open=71.7, high=71.9, low=71.0, close=71.3, change=0.1, transaction=78),\n",
       " Data(date=datetime.datetime(2018, 9, 21, 0, 0), capacity=118000, turnover=8448000, open=71.4, high=72.1, low=71.0, close=71.9, change=0.6, transaction=115),\n",
       " Data(date=datetime.datetime(2018, 9, 25, 0, 0), capacity=87000, turnover=6241000, open=72.1, high=72.2, low=71.1, close=71.1, change=-0.8, transaction=78),\n",
       " Data(date=datetime.datetime(2018, 9, 26, 0, 0), capacity=63000, turnover=4482000, open=71.1, high=71.9, low=71.1, close=71.6, change=0.5, transaction=65),\n",
       " Data(date=datetime.datetime(2018, 9, 27, 0, 0), capacity=209000, turnover=15391000, open=72.0, high=74.5, low=72.0, close=73.0, change=1.4, transaction=199),\n",
       " Data(date=datetime.datetime(2018, 9, 28, 0, 0), capacity=119000, turnover=8742000, open=73.0, high=74.5, low=72.7, close=72.7, change=-0.3, transaction=120),\n",
       " Data(date=datetime.datetime(2018, 10, 1, 0, 0), capacity=60000, turnover=4403000, open=72.7, high=73.6, low=72.7, close=73.5, change=0.8, transaction=62),\n",
       " Data(date=datetime.datetime(2018, 10, 2, 0, 0), capacity=52000, turnover=3797000, open=73.9, high=73.9, low=72.5, close=72.9, change=-0.6, transaction=62),\n",
       " Data(date=datetime.datetime(2018, 10, 3, 0, 0), capacity=72000, turnover=5229000, open=72.5, high=73.5, low=72.0, close=72.4, change=-0.5, transaction=72)]"
      ]
     },
     "execution_count": 7,
     "metadata": {},
     "output_type": "execute_result"
    }
   ],
   "source": [
    "stock.data"
   ]
  },
  {
   "cell_type": "code",
   "execution_count": 8,
   "metadata": {},
   "outputs": [
    {
     "data": {
      "text/plain": [
       "[113000,\n",
       " 80000,\n",
       " 124000,\n",
       " 49000,\n",
       " 55000,\n",
       " 165000,\n",
       " 125000,\n",
       " 61000,\n",
       " 76000,\n",
       " 62000,\n",
       " 58000,\n",
       " 23000,\n",
       " 61000,\n",
       " 146000,\n",
       " 122000,\n",
       " 128000,\n",
       " 64000,\n",
       " 103000,\n",
       " 206000,\n",
       " 245000,\n",
       " 97000,\n",
       " 93000,\n",
       " 76000,\n",
       " 118000,\n",
       " 87000,\n",
       " 63000,\n",
       " 209000,\n",
       " 119000,\n",
       " 60000,\n",
       " 52000,\n",
       " 72000]"
      ]
     },
     "execution_count": 8,
     "metadata": {},
     "output_type": "execute_result"
    }
   ],
   "source": [
    "stock.capacity"
   ]
  },
  {
   "cell_type": "code",
   "execution_count": 58,
   "metadata": {},
   "outputs": [],
   "source": [
    "prices = stock.fetch(2018, 10)"
   ]
  },
  {
   "cell_type": "code",
   "execution_count": 14,
   "metadata": {},
   "outputs": [
    {
     "data": {
      "text/plain": [
       "twstock.stock.Data"
      ]
     },
     "execution_count": 14,
     "metadata": {},
     "output_type": "execute_result"
    }
   ],
   "source": [
    "type(prices[0])"
   ]
  },
  {
   "cell_type": "code",
   "execution_count": 15,
   "metadata": {},
   "outputs": [
    {
     "data": {
      "text/plain": [
       "Data(date=datetime.datetime(2018, 9, 3, 0, 0), capacity=62000, turnover=4523000, open=72.4, high=73.7, low=72.3, close=72.5, change=0.1, transaction=64)"
      ]
     },
     "execution_count": 15,
     "metadata": {},
     "output_type": "execute_result"
    }
   ],
   "source": [
    "prices[0]"
   ]
  },
  {
   "cell_type": "code",
   "execution_count": 16,
   "metadata": {},
   "outputs": [
    {
     "data": {
      "text/plain": [
       "[0.1,\n",
       " 0.8,\n",
       " -0.3,\n",
       " 0.0,\n",
       " -1.7,\n",
       " -2.6,\n",
       " 0.8,\n",
       " 0.4,\n",
       " 0.4,\n",
       " 1.7,\n",
       " 1.8,\n",
       " -2.0,\n",
       " -0.6,\n",
       " 0.1,\n",
       " 0.6,\n",
       " -0.8,\n",
       " 0.5,\n",
       " 1.4,\n",
       " -0.3]"
      ]
     },
     "execution_count": 16,
     "metadata": {},
     "output_type": "execute_result"
    }
   ],
   "source": [
    "stock.change"
   ]
  },
  {
   "cell_type": "code",
   "execution_count": 24,
   "metadata": {},
   "outputs": [],
   "source": [
    "date, capacity, turnover, openP, highP, lowP, closeP, changeP, transaction = prices[0]"
   ]
  },
  {
   "cell_type": "code",
   "execution_count": 25,
   "metadata": {},
   "outputs": [
    {
     "data": {
      "text/plain": [
       "datetime.datetime(2018, 9, 3, 0, 0)"
      ]
     },
     "execution_count": 25,
     "metadata": {},
     "output_type": "execute_result"
    }
   ],
   "source": [
    "date"
   ]
  },
  {
   "cell_type": "code",
   "execution_count": 26,
   "metadata": {},
   "outputs": [
    {
     "data": {
      "text/plain": [
       "62000"
      ]
     },
     "execution_count": 26,
     "metadata": {},
     "output_type": "execute_result"
    }
   ],
   "source": [
    "capacity"
   ]
  },
  {
   "cell_type": "code",
   "execution_count": 27,
   "metadata": {},
   "outputs": [
    {
     "data": {
      "text/plain": [
       "4523000"
      ]
     },
     "execution_count": 27,
     "metadata": {},
     "output_type": "execute_result"
    }
   ],
   "source": [
    "turnover"
   ]
  },
  {
   "cell_type": "code",
   "execution_count": 28,
   "metadata": {},
   "outputs": [],
   "source": [
    "twstock.realtime.mock = False"
   ]
  },
  {
   "cell_type": "code",
   "execution_count": 42,
   "metadata": {},
   "outputs": [
    {
     "data": {
      "text/plain": [
       "{'timestamp': 1538616501.0,\n",
       " 'info': {'code': '3026',\n",
       "  'channel': '3026.tw',\n",
       "  'name': '禾伸堂',\n",
       "  'fullname': '禾伸堂企業股份有限公司',\n",
       "  'time': '2018-10-04 09:28:21'},\n",
       " 'realtime': {'latest_trade_price': '131.50',\n",
       "  'trade_volume': '1',\n",
       "  'accumulate_trade_volume': '1896',\n",
       "  'best_bid_price': ['131.50', '131.00', '130.50', '130.00', '129.50'],\n",
       "  'best_bid_volume': ['151', '135', '104', '138', '97'],\n",
       "  'best_ask_price': ['132.00', '132.50', '133.00', '133.50', '134.00'],\n",
       "  'best_ask_volume': ['30', '86', '121', '109', '85'],\n",
       "  'open': '131.50',\n",
       "  'high': '133.00',\n",
       "  'low': '131.00'},\n",
       " 'success': True}"
      ]
     },
     "execution_count": 42,
     "metadata": {},
     "output_type": "execute_result"
    }
   ],
   "source": [
    "twstock.realtime.get('3026')"
   ]
  },
  {
   "cell_type": "code",
   "execution_count": 39,
   "metadata": {},
   "outputs": [
    {
     "data": {
      "text/plain": [
       "<twstock.stock.Stock at 0x106fccc88>"
      ]
     },
     "execution_count": 39,
     "metadata": {},
     "output_type": "execute_result"
    }
   ],
   "source": [
    "stock "
   ]
  },
  {
   "cell_type": "code",
   "execution_count": 31,
   "metadata": {},
   "outputs": [
    {
     "data": {
      "text/plain": [
       "[62000,\n",
       " 58000,\n",
       " 23000,\n",
       " 61000,\n",
       " 146000,\n",
       " 122000,\n",
       " 128000,\n",
       " 64000,\n",
       " 103000,\n",
       " 206000,\n",
       " 245000,\n",
       " 97000,\n",
       " 93000,\n",
       " 76000,\n",
       " 118000,\n",
       " 87000,\n",
       " 63000,\n",
       " 209000,\n",
       " 119000]"
      ]
     },
     "execution_count": 31,
     "metadata": {},
     "output_type": "execute_result"
    }
   ],
   "source": [
    "stock.capacity"
   ]
  },
  {
   "cell_type": "code",
   "execution_count": 44,
   "metadata": {},
   "outputs": [],
   "source": [
    "import talib"
   ]
  },
  {
   "cell_type": "code",
   "execution_count": 63,
   "metadata": {},
   "outputs": [],
   "source": [
    "dateList = []\n",
    "openList = []\n",
    "closeList = []\n",
    "higeList = []\n",
    "lowList = []\n",
    "volumeList = []\n",
    "\n",
    "for data in stock.data:\n",
    "    dateList.append(data.date)\n",
    "    openList.append(data.open)\n",
    "    closeList.append(data.close)\n",
    "    higeList.append(data.high)\n",
    "    lowList.append(data.low)\n",
    "    volumeList.append(data.capacity)"
   ]
  },
  {
   "cell_type": "code",
   "execution_count": 61,
   "metadata": {},
   "outputs": [
    {
     "data": {
      "text/plain": [
       "[datetime.datetime(2018, 10, 1, 0, 0),\n",
       " datetime.datetime(2018, 10, 2, 0, 0),\n",
       " datetime.datetime(2018, 10, 3, 0, 0)]"
      ]
     },
     "execution_count": 61,
     "metadata": {},
     "output_type": "execute_result"
    }
   ],
   "source": [
    "dateList"
   ]
  },
  {
   "cell_type": "code",
   "execution_count": 64,
   "metadata": {},
   "outputs": [
    {
     "data": {
      "text/plain": [
       "[60000, 52000, 72000]"
      ]
     },
     "execution_count": 64,
     "metadata": {},
     "output_type": "execute_result"
    }
   ],
   "source": [
    "volumeList"
   ]
  },
  {
   "cell_type": "code",
   "execution_count": 66,
   "metadata": {},
   "outputs": [],
   "source": [
    "import pandas as pd"
   ]
  },
  {
   "cell_type": "code",
   "execution_count": 69,
   "metadata": {},
   "outputs": [],
   "source": [
    "openList = pd.DataFrame(openList)\n",
    "closeList = pd.DataFrame(closeList)\n",
    "higeList = pd.DataFrame(higeList)\n",
    "lowList = pd.DataFrame(lowList)\n",
    "volumeList = pd.DataFrame(volumeList)"
   ]
  },
  {
   "cell_type": "code",
   "execution_count": 74,
   "metadata": {},
   "outputs": [
    {
     "data": {
      "text/plain": [
       "<matplotlib.axes._subplots.AxesSubplot at 0x1172020b8>"
      ]
     },
     "execution_count": 74,
     "metadata": {},
     "output_type": "execute_result"
    },
    {
     "data": {
      "image/png": "[encoded data removed]",
      "text/plain": [
       "<Figure size 432x288 with 1 Axes>"
      ]
     },
     "metadata": {},
     "output_type": "display_data"
    }
   ],
   "source": [
    "stock5478 = {\n",
    "    'open': openList.astype(float),\n",
    "    'close': closeList.astype(float),\n",
    "    'high': higeList.astype(float),\n",
    "    'low': lowList.astype(float),\n",
    "    'volume': volumeList.astype(float)\n",
    "}\n",
    "\n",
    "%matplotlib inline\n",
    "\n",
    "stock5478['open'].plot()"
   ]
  },
  {
   "cell_type": "code",
   "execution_count": 76,
   "metadata": {},
   "outputs": [
    {
     "ename": "TypeError",
     "evalue": "STOCH() takes at least 3 positional arguments (1 given)",
     "output_type": "error",
     "traceback": [
      "\u001b[0;31m---------------------------------------------------------------------------\u001b[0m",
      "\u001b[0;31mStopIteration\u001b[0m                             Traceback (most recent call last)",
      "\u001b[0;32m~/anaconda3/envs/pythonenv/lib/python3.6/site-packages/talib/__init__.py\u001b[0m in \u001b[0;36mwrapper\u001b[0;34m(*args, **kwargs)\u001b[0m\n\u001b[1;32m     19\u001b[0m                 index = next(arg.index\n\u001b[0;32m---> 20\u001b[0;31m                              \u001b[0;32mfor\u001b[0m \u001b[0marg\u001b[0m \u001b[0;32min\u001b[0m \u001b[0mchain\u001b[0m\u001b[0;34m(\u001b[0m\u001b[0margs\u001b[0m\u001b[0;34m,\u001b[0m \u001b[0mkwargs\u001b[0m\u001b[0;34m.\u001b[0m\u001b[0mvalues\u001b[0m\u001b[0;34m(\u001b[0m\u001b[0;34m)\u001b[0m\u001b[0;34m)\u001b[0m\u001b[0;34m\u001b[0m\u001b[0m\n\u001b[0m\u001b[1;32m     21\u001b[0m                              if isinstance(arg, _pd_Series))\n",
      "\u001b[0;31mStopIteration\u001b[0m: ",
      "\nDuring handling of the above exception, another exception occurred:\n",
      "\u001b[0;31mTypeError\u001b[0m                                 Traceback (most recent call last)",
      "\u001b[0;32m<ipython-input-76-4ec467995041>\u001b[0m in \u001b[0;36m<module>\u001b[0;34m()\u001b[0m\n\u001b[1;32m      6\u001b[0m     \u001b[0mret\u001b[0m\u001b[0;34m.\u001b[0m\u001b[0mindex\u001b[0m \u001b[0;34m=\u001b[0m \u001b[0mtsmc\u001b[0m\u001b[0;34m[\u001b[0m\u001b[0;34m'close'\u001b[0m\u001b[0;34m]\u001b[0m\u001b[0;34m.\u001b[0m\u001b[0mindex\u001b[0m\u001b[0;34m\u001b[0m\u001b[0m\n\u001b[1;32m      7\u001b[0m     \u001b[0;32mreturn\u001b[0m \u001b[0mret\u001b[0m\u001b[0;34m;\u001b[0m\u001b[0;34m\u001b[0m\u001b[0m\n\u001b[0;32m----> 8\u001b[0;31m \u001b[0mtalib2df\u001b[0m\u001b[0;34m(\u001b[0m\u001b[0mtalib\u001b[0m\u001b[0;34m.\u001b[0m\u001b[0mSTOCH\u001b[0m\u001b[0;34m(\u001b[0m\u001b[0mstock5478\u001b[0m\u001b[0;34m)\u001b[0m\u001b[0;34m)\u001b[0m\u001b[0;34m.\u001b[0m\u001b[0mplot\u001b[0m\u001b[0;34m(\u001b[0m\u001b[0;34m)\u001b[0m\u001b[0;34m\u001b[0m\u001b[0m\n\u001b[0m\u001b[1;32m      9\u001b[0m \u001b[0mstock5478\u001b[0m\u001b[0;34m[\u001b[0m\u001b[0;34m'close'\u001b[0m\u001b[0;34m]\u001b[0m\u001b[0;34m.\u001b[0m\u001b[0mplot\u001b[0m\u001b[0;34m(\u001b[0m\u001b[0msecondary_y\u001b[0m\u001b[0;34m=\u001b[0m\u001b[0;32mTrue\u001b[0m\u001b[0;34m)\u001b[0m\u001b[0;34m\u001b[0m\u001b[0m\n",
      "\u001b[0;32m~/anaconda3/envs/pythonenv/lib/python3.6/site-packages/talib/__init__.py\u001b[0m in \u001b[0;36mwrapper\u001b[0;34m(*args, **kwargs)\u001b[0m\n\u001b[1;32m     22\u001b[0m             \u001b[0;32mexcept\u001b[0m \u001b[0mStopIteration\u001b[0m\u001b[0;34m:\u001b[0m\u001b[0;34m\u001b[0m\u001b[0m\n\u001b[1;32m     23\u001b[0m                 \u001b[0;31m# No pandas.Series passed in; short-circuit\u001b[0m\u001b[0;34m\u001b[0m\u001b[0;34m\u001b[0m\u001b[0m\n\u001b[0;32m---> 24\u001b[0;31m                 \u001b[0;32mreturn\u001b[0m \u001b[0mfunc\u001b[0m\u001b[0;34m(\u001b[0m\u001b[0;34m*\u001b[0m\u001b[0margs\u001b[0m\u001b[0;34m,\u001b[0m \u001b[0;34m**\u001b[0m\u001b[0mkwargs\u001b[0m\u001b[0;34m)\u001b[0m\u001b[0;34m\u001b[0m\u001b[0m\n\u001b[0m\u001b[1;32m     25\u001b[0m \u001b[0;34m\u001b[0m\u001b[0m\n\u001b[1;32m     26\u001b[0m             \u001b[0;31m# Use Series' float64 values if pandas, else use values as passed\u001b[0m\u001b[0;34m\u001b[0m\u001b[0;34m\u001b[0m\u001b[0m\n",
      "\u001b[0;32mtalib/_func.pxi\u001b[0m in \u001b[0;36mtalib._ta_lib.STOCH\u001b[0;34m()\u001b[0m\n",
      "\u001b[0;31mTypeError\u001b[0m: STOCH() takes at least 3 positional arguments (1 given)"
     ]
    }
   ],
   "source": [
    "def talib2df(talib_output):\n",
    "    if type(talib_output) == list:\n",
    "        ret = pd.DataFrame(talib_output).transpose()\n",
    "    else:\n",
    "        ret = pd.Series(talib_output)\n",
    "    ret.index = tsmc['close'].index\n",
    "    return ret;\n",
    "talib2df(talib.STOCH(stock5478)).plot()\n",
    "stock5478['close'].plot(secondary_y=True)"
   ]
  },
  {
   "cell_type": "code",
   "execution_count": null,
   "metadata": {},
   "outputs": [],
   "source": []
  }
 ],
 "metadata": {
  "kernelspec": {
   "display_name": "Python 3",
   "language": "python",
   "name": "python3"
  },
  "language_info": {
   "codemirror_mode": {
    "name": "ipython",
    "version": 3
   },
   "file_extension": ".py",
   "mimetype": "text/x-python",
   "name": "python",
   "nbconvert_exporter": "python",
   "pygments_lexer": "ipython3",
   "version": "3.6.5"
  }
 },
 "nbformat": 4,
 "nbformat_minor": 2
}
