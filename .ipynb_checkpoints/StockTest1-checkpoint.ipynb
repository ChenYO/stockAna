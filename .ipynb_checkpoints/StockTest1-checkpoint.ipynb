{
 "cells": [
  {
   "cell_type": "code",
   "execution_count": 1,
   "metadata": {},
   "outputs": [],
   "source": [
    "import twstock"
   ]
  },
  {
   "cell_type": "code",
   "execution_count": 6,
   "metadata": {},
   "outputs": [],
   "source": [
    "stock = twstock.Stock('5478')"
   ]
  },
  {
   "cell_type": "code",
   "execution_count": 7,
   "metadata": {},
   "outputs": [
    {
     "data": {
      "text/plain": [
       "[Data(date=datetime.datetime(2018, 8, 21, 0, 0), capacity=113000, turnover=8333000, open=73.4, high=74.8, low=72.4, close=74.0, change=1.5, transaction=99),\n",
       " Data(date=datetime.datetime(2018, 8, 22, 0, 0), capacity=80000, turnover=5947000, open=74.1, high=75.0, low=74.0, close=74.7, change=0.7, transaction=71),\n",
       " Data(date=datetime.datetime(2018, 8, 23, 0, 0), capacity=124000, turnover=9347000, open=75.9, high=75.9, low=74.7, close=74.7, change=0.0, transaction=114),\n",
       " Data(date=datetime.datetime(2018, 8, 24, 0, 0), capacity=49000, turnover=3673000, open=73.7, high=75.0, low=73.7, close=74.4, change=-0.3, transaction=53),\n",
       " Data(date=datetime.datetime(2018, 8, 27, 0, 0), capacity=55000, turnover=4116000, open=74.4, high=74.8, low=74.2, close=74.4, change=0.0, transaction=57),\n",
       " Data(date=datetime.datetime(2018, 8, 28, 0, 0), capacity=165000, turnover=12350000, open=74.8, high=75.1, low=74.2, close=75.0, change=0.6, transaction=145),\n",
       " Data(date=datetime.datetime(2018, 8, 29, 0, 0), capacity=125000, turnover=9134000, open=73.5, high=73.6, low=72.4, close=73.0, change=0.0, transaction=128),\n",
       " Data(date=datetime.datetime(2018, 8, 30, 0, 0), capacity=61000, turnover=4474000, open=73.0, high=73.4, low=72.5, close=73.3, change=0.3, transaction=65),\n",
       " Data(date=datetime.datetime(2018, 8, 31, 0, 0), capacity=76000, turnover=5506000, open=73.5, high=73.5, low=72.4, close=72.4, change=-0.9, transaction=79),\n",
       " Data(date=datetime.datetime(2018, 9, 3, 0, 0), capacity=62000, turnover=4523000, open=72.4, high=73.7, low=72.3, close=72.5, change=0.1, transaction=64),\n",
       " Data(date=datetime.datetime(2018, 9, 4, 0, 0), capacity=58000, turnover=4248000, open=72.5, high=73.5, low=72.5, close=73.3, change=0.8, transaction=66),\n",
       " Data(date=datetime.datetime(2018, 9, 5, 0, 0), capacity=23000, turnover=1692000, open=73.6, high=73.6, low=73.0, close=73.0, change=-0.3, transaction=27),\n",
       " Data(date=datetime.datetime(2018, 9, 6, 0, 0), capacity=61000, turnover=4468000, open=72.6, high=73.6, low=72.6, close=73.0, change=0.0, transaction=54),\n",
       " Data(date=datetime.datetime(2018, 9, 7, 0, 0), capacity=146000, turnover=10474000, open=72.7, high=73.2, low=70.5, close=71.3, change=-1.7, transaction=104),\n",
       " Data(date=datetime.datetime(2018, 9, 10, 0, 0), capacity=122000, turnover=8466000, open=70.0, high=71.0, low=68.2, close=68.7, change=-2.6, transaction=111),\n",
       " Data(date=datetime.datetime(2018, 9, 11, 0, 0), capacity=128000, turnover=8790000, open=68.2, high=69.5, low=68.1, close=69.5, change=0.8, transaction=121),\n",
       " Data(date=datetime.datetime(2018, 9, 12, 0, 0), capacity=64000, turnover=4468000, open=70.5, high=70.5, low=69.5, close=69.9, change=0.4, transaction=66),\n",
       " Data(date=datetime.datetime(2018, 9, 13, 0, 0), capacity=103000, turnover=7237000, open=70.3, high=70.6, low=69.8, close=70.3, change=0.4, transaction=100),\n",
       " Data(date=datetime.datetime(2018, 9, 14, 0, 0), capacity=206000, turnover=14790000, open=69.8, high=72.4, low=69.8, close=72.0, change=1.7, transaction=170),\n",
       " Data(date=datetime.datetime(2018, 9, 17, 0, 0), capacity=245000, turnover=18435000, open=74.0, high=77.6, low=73.2, close=73.8, change=1.8, transaction=227),\n",
       " Data(date=datetime.datetime(2018, 9, 18, 0, 0), capacity=97000, turnover=7072000, open=74.2, high=74.2, low=71.8, close=71.8, change=-2.0, transaction=86),\n",
       " Data(date=datetime.datetime(2018, 9, 19, 0, 0), capacity=93000, turnover=6718000, open=71.8, high=73.0, low=71.2, close=71.2, change=-0.6, transaction=86),\n",
       " Data(date=datetime.datetime(2018, 9, 20, 0, 0), capacity=76000, turnover=5423000, open=71.7, high=71.9, low=71.0, close=71.3, change=0.1, transaction=78),\n",
       " Data(date=datetime.datetime(2018, 9, 21, 0, 0), capacity=118000, turnover=8448000, open=71.4, high=72.1, low=71.0, close=71.9, change=0.6, transaction=115),\n",
       " Data(date=datetime.datetime(2018, 9, 25, 0, 0), capacity=87000, turnover=6241000, open=72.1, high=72.2, low=71.1, close=71.1, change=-0.8, transaction=78),\n",
       " Data(date=datetime.datetime(2018, 9, 26, 0, 0), capacity=63000, turnover=4482000, open=71.1, high=71.9, low=71.1, close=71.6, change=0.5, transaction=65),\n",
       " Data(date=datetime.datetime(2018, 9, 27, 0, 0), capacity=209000, turnover=15391000, open=72.0, high=74.5, low=72.0, close=73.0, change=1.4, transaction=199),\n",
       " Data(date=datetime.datetime(2018, 9, 28, 0, 0), capacity=119000, turnover=8742000, open=73.0, high=74.5, low=72.7, close=72.7, change=-0.3, transaction=120),\n",
       " Data(date=datetime.datetime(2018, 10, 1, 0, 0), capacity=60000, turnover=4403000, open=72.7, high=73.6, low=72.7, close=73.5, change=0.8, transaction=62),\n",
       " Data(date=datetime.datetime(2018, 10, 2, 0, 0), capacity=52000, turnover=3797000, open=73.9, high=73.9, low=72.5, close=72.9, change=-0.6, transaction=62),\n",
       " Data(date=datetime.datetime(2018, 10, 3, 0, 0), capacity=72000, turnover=5229000, open=72.5, high=73.5, low=72.0, close=72.4, change=-0.5, transaction=72)]"
      ]
     },
     "execution_count": 7,
     "metadata": {},
     "output_type": "execute_result"
    }
   ],
   "source": [
    "stock.data"
   ]
  },
  {
   "cell_type": "code",
   "execution_count": 8,
   "metadata": {},
   "outputs": [
    {
     "data": {
      "text/plain": [
       "[113000,\n",
       " 80000,\n",
       " 124000,\n",
       " 49000,\n",
       " 55000,\n",
       " 165000,\n",
       " 125000,\n",
       " 61000,\n",
       " 76000,\n",
       " 62000,\n",
       " 58000,\n",
       " 23000,\n",
       " 61000,\n",
       " 146000,\n",
       " 122000,\n",
       " 128000,\n",
       " 64000,\n",
       " 103000,\n",
       " 206000,\n",
       " 245000,\n",
       " 97000,\n",
       " 93000,\n",
       " 76000,\n",
       " 118000,\n",
       " 87000,\n",
       " 63000,\n",
       " 209000,\n",
       " 119000,\n",
       " 60000,\n",
       " 52000,\n",
       " 72000]"
      ]
     },
     "execution_count": 8,
     "metadata": {},
     "output_type": "execute_result"
    }
   ],
   "source": [
    "stock.capacity"
   ]
  },
  {
   "cell_type": "code",
   "execution_count": 12,
   "metadata": {},
   "outputs": [],
   "source": [
    "prices = stock.fetch(2018, 9)"
   ]
  },
  {
   "cell_type": "code",
   "execution_count": null,
   "metadata": {},
   "outputs": [],
   "source": []
  }
 ],
 "metadata": {
  "kernelspec": {
   "display_name": "Python 3",
   "language": "python",
   "name": "python3"
  },
  "language_info": {
   "codemirror_mode": {
    "name": "ipython",
    "version": 3
   },
   "file_extension": ".py",
   "mimetype": "text/x-python",
   "name": "python",
   "nbconvert_exporter": "python",
   "pygments_lexer": "ipython3",
   "version": "3.6.5"
  }
 },
 "nbformat": 4,
 "nbformat_minor": 2
}
