{
 "cells": [
  {
   "cell_type": "code",
   "execution_count": 1,
   "metadata": {},
   "outputs": [],
   "source": [
    "import twstock\n",
    "import talib\n",
    "import pandas"
   ]
  },
  {
   "cell_type": "code",
   "execution_count": 3,
   "metadata": {},
   "outputs": [
    {
     "data": {
      "text/plain": [
       "<twstock.stock.Stock at 0x10bcba7f0>"
      ]
     },
     "execution_count": 3,
     "metadata": {},
     "output_type": "execute_result"
    }
   ],
   "source": [
    "twstock.Stock('2892', '5478')"
   ]
  },
  {
   "cell_type": "code",
   "execution_count": 5,
   "metadata": {},
   "outputs": [],
   "source": [
    "stocks = twstock.Stock('2892', '5478')"
   ]
  },
  {
   "cell_type": "code",
   "execution_count": 7,
   "metadata": {},
   "outputs": [
    {
     "data": {
      "text/plain": [
       "[Data(date=datetime.datetime(2018, 8, 21, 0, 0), capacity=9573825, turnover=195419650, open=20.4, high=20.45, low=20.35, close=20.45, change=0.1, transaction=3005),\n",
       " Data(date=datetime.datetime(2018, 8, 22, 0, 0), capacity=14941476, turnover=306509408, open=20.45, high=20.65, low=20.4, close=20.5, change=0.05, transaction=3675),\n",
       " Data(date=datetime.datetime(2018, 8, 23, 0, 0), capacity=11963248, turnover=245280059, open=20.55, high=20.6, low=20.4, close=20.55, change=0.05, transaction=2766),\n",
       " Data(date=datetime.datetime(2018, 8, 24, 0, 0), capacity=7180284, turnover=146806641, open=20.5, high=20.55, low=20.4, close=20.5, change=-0.05, transaction=1773),\n",
       " Data(date=datetime.datetime(2018, 8, 27, 0, 0), capacity=10074561, turnover=205515644, open=20.45, high=20.5, low=20.35, close=20.35, change=-0.15, transaction=3694),\n",
       " Data(date=datetime.datetime(2018, 8, 28, 0, 0), capacity=8262136, turnover=168693976, open=20.45, high=20.45, low=20.4, close=20.45, change=0.1, transaction=2449),\n",
       " Data(date=datetime.datetime(2018, 8, 29, 0, 0), capacity=10331590, turnover=211218389, open=20.45, high=20.5, low=20.4, close=20.5, change=0.05, transaction=3115),\n",
       " Data(date=datetime.datetime(2018, 8, 30, 0, 0), capacity=9079946, turnover=185546500, open=20.45, high=20.5, low=20.4, close=20.4, change=-0.1, transaction=3278),\n",
       " Data(date=datetime.datetime(2018, 8, 31, 0, 0), capacity=15988144, turnover=327330551, open=20.4, high=20.55, low=20.35, close=20.55, change=0.15, transaction=3872),\n",
       " Data(date=datetime.datetime(2018, 9, 3, 0, 0), capacity=7968294, turnover=162989657, open=20.5, high=20.55, low=20.4, close=20.5, change=-0.05, transaction=2581),\n",
       " Data(date=datetime.datetime(2018, 9, 4, 0, 0), capacity=9091195, turnover=185688007, open=20.5, high=20.5, low=20.4, close=20.45, change=-0.05, transaction=4630),\n",
       " Data(date=datetime.datetime(2018, 9, 5, 0, 0), capacity=12842050, turnover=261763725, open=20.4, high=20.45, low=20.35, close=20.35, change=-0.1, transaction=4703),\n",
       " Data(date=datetime.datetime(2018, 9, 6, 0, 0), capacity=8358692, turnover=170435372, open=20.35, high=20.5, low=20.3, close=20.5, change=0.15, transaction=2709),\n",
       " Data(date=datetime.datetime(2018, 9, 7, 0, 0), capacity=9608413, turnover=196301716, open=20.35, high=20.5, low=20.35, close=20.4, change=-0.1, transaction=2227),\n",
       " Data(date=datetime.datetime(2018, 9, 10, 0, 0), capacity=10946337, turnover=222624097, open=20.4, high=20.45, low=20.3, close=20.35, change=-0.05, transaction=3874),\n",
       " Data(date=datetime.datetime(2018, 9, 11, 0, 0), capacity=10177835, turnover=207207772, open=20.35, high=20.4, low=20.3, close=20.4, change=0.05, transaction=2162),\n",
       " Data(date=datetime.datetime(2018, 9, 12, 0, 0), capacity=10283935, turnover=209672776, open=20.4, high=20.45, low=20.35, close=20.4, change=0.0, transaction=3089),\n",
       " Data(date=datetime.datetime(2018, 9, 13, 0, 0), capacity=11796024, turnover=241259867, open=20.4, high=20.55, low=20.35, close=20.55, change=0.15, transaction=2707),\n",
       " Data(date=datetime.datetime(2018, 9, 14, 0, 0), capacity=13355814, turnover=273669316, open=20.55, high=20.55, low=20.45, close=20.45, change=-0.1, transaction=3299),\n",
       " Data(date=datetime.datetime(2018, 9, 17, 0, 0), capacity=4015812, turnover=81993289, open=20.45, high=20.5, low=20.4, close=20.4, change=-0.05, transaction=1845),\n",
       " Data(date=datetime.datetime(2018, 9, 18, 0, 0), capacity=10267332, turnover=210032461, open=20.4, high=20.5, low=20.4, close=20.4, change=0.0, transaction=2739),\n",
       " Data(date=datetime.datetime(2018, 9, 19, 0, 0), capacity=7952263, turnover=163035645, open=20.45, high=20.55, low=20.45, close=20.55, change=0.15, transaction=3627),\n",
       " Data(date=datetime.datetime(2018, 9, 20, 0, 0), capacity=9065244, turnover=186815873, open=20.6, high=20.65, low=20.55, close=20.6, change=0.05, transaction=2685),\n",
       " Data(date=datetime.datetime(2018, 9, 21, 0, 0), capacity=23574152, turnover=487715192, open=20.7, high=20.75, low=20.6, close=20.7, change=0.1, transaction=4535),\n",
       " Data(date=datetime.datetime(2018, 9, 25, 0, 0), capacity=14147465, turnover=293110089, open=20.75, high=20.8, low=20.65, close=20.8, change=0.1, transaction=4413),\n",
       " Data(date=datetime.datetime(2018, 9, 26, 0, 0), capacity=11129345, turnover=231535784, open=20.85, high=20.85, low=20.75, close=20.8, change=0.0, transaction=2600),\n",
       " Data(date=datetime.datetime(2018, 9, 27, 0, 0), capacity=15723650, turnover=327658750, open=20.7, high=21.0, low=20.7, close=20.95, change=0.15, transaction=5096),\n",
       " Data(date=datetime.datetime(2018, 9, 28, 0, 0), capacity=15878711, turnover=330350009, open=20.85, high=20.95, low=20.7, close=20.8, change=-0.15, transaction=4175),\n",
       " Data(date=datetime.datetime(2018, 10, 1, 0, 0), capacity=9479019, turnover=197469260, open=20.8, high=20.9, low=20.75, close=20.85, change=0.05, transaction=3796),\n",
       " Data(date=datetime.datetime(2018, 10, 2, 0, 0), capacity=16207511, turnover=335133994, open=20.85, high=20.85, low=20.6, close=20.6, change=-0.25, transaction=4814),\n",
       " Data(date=datetime.datetime(2018, 10, 3, 0, 0), capacity=10521243, turnover=216592698, open=20.6, high=20.65, low=20.55, close=20.55, change=-0.05, transaction=2933)]"
      ]
     },
     "execution_count": 7,
     "metadata": {},
     "output_type": "execute_result"
    }
   ],
   "source": [
    "stocks.data"
   ]
  },
  {
   "cell_type": "code",
   "execution_count": 8,
   "metadata": {},
   "outputs": [],
   "source": [
    "bfp = twstock.BestFourPoint(stocks)"
   ]
  },
  {
   "cell_type": "code",
   "execution_count": 9,
   "metadata": {},
   "outputs": [
    {
     "data": {
      "text/plain": [
       "['量大收紅', '量縮價不跌', '三日均價由下往上', '三日均價大於六日均價']"
      ]
     },
     "execution_count": 9,
     "metadata": {},
     "output_type": "execute_result"
    }
   ],
   "source": [
    "bfp.BEST_BUY_WHY"
   ]
  },
  {
   "cell_type": "code",
   "execution_count": 10,
   "metadata": {},
   "outputs": [
    {
     "data": {
      "text/plain": [
       "['量大收黑', '量縮價跌', '三日均價由上往下', '三日均價小於六日均價']"
      ]
     },
     "execution_count": 10,
     "metadata": {},
     "output_type": "execute_result"
    }
   ],
   "source": [
    "bfp.BEST_SELL_WHY"
   ]
  },
  {
   "cell_type": "code",
   "execution_count": 15,
   "metadata": {},
   "outputs": [
    {
     "data": {
      "text/plain": [
       "False"
      ]
     },
     "execution_count": 15,
     "metadata": {},
     "output_type": "execute_result"
    }
   ],
   "source": [
    "bfp.best_four_point_to_buy()"
   ]
  },
  {
   "cell_type": "code",
   "execution_count": 16,
   "metadata": {},
   "outputs": [
    {
     "data": {
      "text/plain": [
       "'量縮價跌, 三日均價小於六日均價'"
      ]
     },
     "execution_count": 16,
     "metadata": {},
     "output_type": "execute_result"
    }
   ],
   "source": [
    "bfp.best_four_point_to_sell()"
   ]
  },
  {
   "cell_type": "code",
   "execution_count": 17,
   "metadata": {},
   "outputs": [
    {
     "data": {
      "text/plain": [
       "(False, '量縮價跌, 三日均價小於六日均價')"
      ]
     },
     "execution_count": 17,
     "metadata": {},
     "output_type": "execute_result"
    }
   ],
   "source": [
    "bfp.best_four_point()"
   ]
  },
  {
   "cell_type": "code",
   "execution_count": null,
   "metadata": {},
   "outputs": [],
   "source": []
  }
 ],
 "metadata": {
  "kernelspec": {
   "display_name": "Python 3",
   "language": "python",
   "name": "python3"
  },
  "language_info": {
   "codemirror_mode": {
    "name": "ipython",
    "version": 3
   },
   "file_extension": ".py",
   "mimetype": "text/x-python",
   "name": "python",
   "nbconvert_exporter": "python",
   "pygments_lexer": "ipython3",
   "version": "3.6.5"
  }
 },
 "nbformat": 4,
 "nbformat_minor": 2
}
